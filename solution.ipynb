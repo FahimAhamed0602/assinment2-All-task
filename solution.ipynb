{
  "cells": [
    {
      "cell_type": "markdown",
      "metadata": {
        "id": "view-in-github",
        "colab_type": "text"
      },
      "source": [
        "<a href=\"https://colab.research.google.com/github/FahimAhamed0602/assinment2-All-task/blob/main/solution.ipynb\" target=\"_parent\"><img src=\"https://colab.research.google.com/assets/colab-badge.svg\" alt=\"Open In Colab\"/></a>"
      ]
    },
    {
      "cell_type": "code",
      "execution_count": null,
      "metadata": {
        "id": "9YLi40Q40NQJ",
        "outputId": "74e06d22-ac75-4476-e29d-9fdc71dfde54",
        "colab": {
          "base_uri": "https://localhost:8080/"
        }
      },
      "outputs": [
        {
          "output_type": "stream",
          "name": "stdout",
          "text": [
            "Best Chromosome: 100000001\n",
            "Best Fitness: -1\n"
          ]
        }
      ],
      "source": [
        "import random\n",
        "\n",
        "def initialize_population(population_size, chromosome_length):\n",
        "    return [[random.randint(0, 1) for _ in range(chromosome_length)] for _ in range(population_size)]\n",
        "\n",
        "def evaluate_fitness(chromosome, num_courses, num_timeslots):\n",
        "    overlap_penalty = 0\n",
        "    consistency_penalty = 0\n",
        "\n",
        "    # Calculate overlap penalty\n",
        "    for timeslot in range(num_timeslots):\n",
        "        timeslot_courses = chromosome[timeslot * num_courses:(timeslot + 1) * num_courses]\n",
        "        if sum(timeslot_courses) > 1:\n",
        "            overlap_penalty += sum(timeslot_courses) - 1\n",
        "\n",
        "    # Calculate consistency penalty\n",
        "    course_counts = [0] * num_courses\n",
        "    for timeslot in range(num_timeslots):\n",
        "        timeslot_courses = chromosome[timeslot * num_courses:(timeslot + 1) * num_courses]\n",
        "        for course in range(num_courses):\n",
        "            course_counts[course] += timeslot_courses[course]\n",
        "\n",
        "    for count in course_counts:\n",
        "        consistency_penalty += abs(count - 1)\n",
        "\n",
        "    total_penalty = overlap_penalty + consistency_penalty\n",
        "    return -total_penalty  # Negative fitness for maximization\n",
        "\n",
        "def select_parents(population, fitnesses):\n",
        "    total_fitness = sum(fitnesses)\n",
        "    parent1 = select_parent(population, fitnesses, total_fitness)\n",
        "    parent2 = select_parent(population, fitnesses, total_fitness)\n",
        "    return parent1, parent2\n",
        "\n",
        "def select_parent(population, fitnesses, total_fitness):\n",
        "    pick = random.uniform(0, total_fitness)\n",
        "    current_fitness = 0\n",
        "    for i, fitness in enumerate(fitnesses):\n",
        "        current_fitness += fitness\n",
        "        if current_fitness > pick:\n",
        "            return population[i]\n",
        "    return population[0]\n",
        "\n",
        "def crossover_single_point(parent1, parent2):\n",
        "    crossover_point = random.randint(1, len(parent1) - 2)\n",
        "    child1 = parent1[:crossover_point] + parent2[crossover_point:]\n",
        "    child2 = parent2[:crossover_point] + parent1[crossover_point:]\n",
        "    return child1, child2\n",
        "\n",
        "def mutate(chromosome, mutation_rate):\n",
        "    for i in range(len(chromosome)):\n",
        "        if random.random() < mutation_rate:\n",
        "            chromosome[i] = 1 - chromosome[i]\n",
        "\n",
        "def genetic_algorithm(num_courses, num_timeslots, population_size, mutation_rate, max_iterations):\n",
        "    chromosome_length = num_courses * num_timeslots\n",
        "    population = initialize_population(population_size, chromosome_length)\n",
        "    best_chromosome = None\n",
        "    best_fitness = float('-inf')\n",
        "\n",
        "    for _ in range(max_iterations):\n",
        "        fitnesses = [evaluate_fitness(chromosome, num_courses, num_timeslots) for chromosome in population]\n",
        "        for i, fitness in enumerate(fitnesses):\n",
        "            if fitness > best_fitness:\n",
        "                best_fitness = fitness\n",
        "                best_chromosome = population[i]\n",
        "\n",
        "        new_population = []\n",
        "        while len(new_population) < population_size:\n",
        "            parent1, parent2 = select_parents(population, fitnesses)\n",
        "            child1, child2 = crossover_single_point(parent1, parent2)\n",
        "            mutate(child1, mutation_rate)\n",
        "            mutate(child2, mutation_rate)\n",
        "            new_population.extend([child1, child2])\n",
        "\n",
        "        population = new_population[:population_size]\n",
        "\n",
        "    return best_chromosome, best_fitness\n",
        "\n",
        "def read_input_file(file_name):\n",
        "    \"\"\"Reads input from a file.\"\"\"\n",
        "    with open(file_name, 'r') as file:\n",
        "        lines = file.readlines()\n",
        "        num_courses, num_timeslots = map(int, lines[0].strip().split())\n",
        "        courses = [line.strip() for line in lines[1:num_courses + 1]]\n",
        "    return num_courses, num_timeslots, courses\n",
        "\n",
        "def main():\n",
        "    input_file = 'input.txt'\n",
        "    num_courses, num_timeslots, courses = read_input_file(input_file)\n",
        "\n",
        "    population_size = 10\n",
        "    mutation_rate = 0.01\n",
        "    max_iterations = 100\n",
        "\n",
        "    best_chromosome, best_fitness = genetic_algorithm(num_courses, num_timeslots, population_size, mutation_rate, max_iterations)\n",
        "\n",
        "    print(\"Best Chromosome:\", ''.join(map(str, best_chromosome)))\n",
        "    print(\"Best Fitness:\", best_fitness)\n",
        "\n",
        "if __name__ == \"__main__\":\n",
        "    main()"
      ]
    },
    {
      "cell_type": "code",
      "execution_count": null,
      "metadata": {
        "id": "drsTOFdy0NQM",
        "outputId": "675ab79b-7c5e-49e0-ffc6-dc108e85688f",
        "colab": {
          "base_uri": "https://localhost:8080/"
        }
      },
      "outputs": [
        {
          "output_type": "stream",
          "name": "stdout",
          "text": [
            "Parent 1:  000111000\n",
            "Parent 2:  111000111\n",
            "Child 1:   000100000\n",
            "Child 2:   111011111\n"
          ]
        }
      ],
      "source": [
        "# Function for two-point crossover\n",
        "def two_point_crossover(parent1, parent2):\n",
        "    point1 = random.randint(0, len(parent1) - 2)\n",
        "    point2 = random.randint(point1 + 1, len(parent1) - 1)\n",
        "    child1 = parent1[:point1] + parent2[point1:point2] + parent1[point2:]\n",
        "    child2 = parent2[:point1] + parent1[point1:point2] + parent2[point2:]\n",
        "    return child1, child2\n",
        "\n",
        "# Example usage of two-point crossover\n",
        "parent1 = [0, 0, 0, 1, 1, 1, 0, 0, 0]\n",
        "parent2 = [1, 1, 1, 0, 0, 0, 1, 1, 1]\n",
        "\n",
        "child1, child2 = two_point_crossover(parent1, parent2)\n",
        "\n",
        "print(\"Parent 1: \", ''.join(map(str, parent1)))\n",
        "print(\"Parent 2: \", ''.join(map(str, parent2)))\n",
        "print(\"Child 1:  \", ''.join(map(str, child1)))\n",
        "print(\"Child 2:  \", ''.join(map(str, child2)))\n"
      ]
    },
    {
      "cell_type": "code",
      "execution_count": null,
      "metadata": {
        "id": "pXbzlcqv0NQM",
        "outputId": "6553c8bd-b7bb-4bdc-8bcd-de311fe17f69",
        "colab": {
          "base_uri": "https://localhost:8080/",
          "height": 367
        }
      },
      "outputs": [
        {
          "output_type": "error",
          "ename": "NameError",
          "evalue": "name 'generate_population' is not defined",
          "traceback": [
            "\u001b[0;31m---------------------------------------------------------------------------\u001b[0m",
            "\u001b[0;31mNameError\u001b[0m                                 Traceback (most recent call last)",
            "\u001b[0;32m<ipython-input-3-ba69af5e0bcd>\u001b[0m in \u001b[0;36m<cell line: 55>\u001b[0;34m()\u001b[0m\n\u001b[1;32m     53\u001b[0m \u001b[0;34m\u001b[0m\u001b[0m\n\u001b[1;32m     54\u001b[0m \u001b[0;31m# Run Genetic Algorithm with Tournament Selection\u001b[0m\u001b[0;34m\u001b[0m\u001b[0;34m\u001b[0m\u001b[0m\n\u001b[0;32m---> 55\u001b[0;31m \u001b[0mbest_chromosome\u001b[0m\u001b[0;34m,\u001b[0m \u001b[0mbest_fitness\u001b[0m \u001b[0;34m=\u001b[0m \u001b[0mgenetic_algorithm_tournament\u001b[0m\u001b[0;34m(\u001b[0m\u001b[0mN\u001b[0m\u001b[0;34m,\u001b[0m \u001b[0mT\u001b[0m\u001b[0;34m,\u001b[0m \u001b[0mcourses\u001b[0m\u001b[0;34m,\u001b[0m \u001b[0mpopulation_size\u001b[0m\u001b[0;34m,\u001b[0m \u001b[0mmutation_rate\u001b[0m\u001b[0;34m,\u001b[0m \u001b[0mmax_iterations\u001b[0m\u001b[0;34m,\u001b[0m \u001b[0mtournament_size\u001b[0m\u001b[0;34m)\u001b[0m\u001b[0;34m\u001b[0m\u001b[0;34m\u001b[0m\u001b[0m\n\u001b[0m\u001b[1;32m     56\u001b[0m \u001b[0;34m\u001b[0m\u001b[0m\n\u001b[1;32m     57\u001b[0m \u001b[0;31m# Output\u001b[0m\u001b[0;34m\u001b[0m\u001b[0;34m\u001b[0m\u001b[0m\n",
            "\u001b[0;32m<ipython-input-3-ba69af5e0bcd>\u001b[0m in \u001b[0;36mgenetic_algorithm_tournament\u001b[0;34m(N, T, courses, population_size, mutation_rate, max_iterations, tournament_size)\u001b[0m\n\u001b[1;32m     10\u001b[0m \u001b[0;32mdef\u001b[0m \u001b[0mgenetic_algorithm_tournament\u001b[0m\u001b[0;34m(\u001b[0m\u001b[0mN\u001b[0m\u001b[0;34m,\u001b[0m \u001b[0mT\u001b[0m\u001b[0;34m,\u001b[0m \u001b[0mcourses\u001b[0m\u001b[0;34m,\u001b[0m \u001b[0mpopulation_size\u001b[0m\u001b[0;34m,\u001b[0m \u001b[0mmutation_rate\u001b[0m\u001b[0;34m,\u001b[0m \u001b[0mmax_iterations\u001b[0m\u001b[0;34m,\u001b[0m \u001b[0mtournament_size\u001b[0m\u001b[0;34m)\u001b[0m\u001b[0;34m:\u001b[0m\u001b[0;34m\u001b[0m\u001b[0;34m\u001b[0m\u001b[0m\n\u001b[1;32m     11\u001b[0m     \u001b[0mchromosome_length\u001b[0m \u001b[0;34m=\u001b[0m \u001b[0mN\u001b[0m \u001b[0;34m*\u001b[0m \u001b[0mT\u001b[0m\u001b[0;34m\u001b[0m\u001b[0;34m\u001b[0m\u001b[0m\n\u001b[0;32m---> 12\u001b[0;31m     \u001b[0mpopulation\u001b[0m \u001b[0;34m=\u001b[0m \u001b[0mgenerate_population\u001b[0m\u001b[0;34m(\u001b[0m\u001b[0mpopulation_size\u001b[0m\u001b[0;34m,\u001b[0m \u001b[0mchromosome_length\u001b[0m\u001b[0;34m)\u001b[0m\u001b[0;34m\u001b[0m\u001b[0;34m\u001b[0m\u001b[0m\n\u001b[0m\u001b[1;32m     13\u001b[0m     \u001b[0mbest_chromosome\u001b[0m \u001b[0;34m=\u001b[0m \u001b[0;32mNone\u001b[0m\u001b[0;34m\u001b[0m\u001b[0;34m\u001b[0m\u001b[0m\n\u001b[1;32m     14\u001b[0m     \u001b[0mbest_fitness\u001b[0m \u001b[0;34m=\u001b[0m \u001b[0mfloat\u001b[0m\u001b[0;34m(\u001b[0m\u001b[0;34m'-inf'\u001b[0m\u001b[0;34m)\u001b[0m\u001b[0;34m\u001b[0m\u001b[0;34m\u001b[0m\u001b[0m\n",
            "\u001b[0;31mNameError\u001b[0m: name 'generate_population' is not defined"
          ]
        }
      ],
      "source": [
        "import random\n",
        "\n",
        "# Function for tournament selection\n",
        "def tournament_selection(population, fitnesses, k=3):\n",
        "    selected = random.sample(list(zip(population, fitnesses)), k)\n",
        "    selected.sort(key=lambda x: x[1], reverse=True)\n",
        "    return selected[0][0]\n",
        "\n",
        "# Genetic Algorithm using Tournament Selection\n",
        "def genetic_algorithm_tournament(N, T, courses, population_size, mutation_rate, max_iterations, tournament_size):\n",
        "    chromosome_length = N * T\n",
        "    population = generate_population(population_size, chromosome_length)\n",
        "    best_chromosome = None\n",
        "    best_fitness = float('-inf')\n",
        "\n",
        "    for iteration in range(max_iterations):\n",
        "        fitnesses = [fitness(chrom, N, T) for chrom in population]\n",
        "\n",
        "        for i, fit in enumerate(fitnesses):\n",
        "            if fit > best_fitness:\n",
        "                best_fitness = fit\n",
        "                best_chromosome = population[i]\n",
        "\n",
        "        new_population = []\n",
        "        while len(new_population) < population_size:\n",
        "            parent1 = tournament_selection(population, fitnesses, tournament_size)\n",
        "            parent2 = tournament_selection(population, fitnesses, tournament_size)\n",
        "            child1, child2 = crossover(parent1, parent2)\n",
        "            mutate(child1, mutation_rate)\n",
        "            mutate(child2, mutation_rate)\n",
        "            new_population.extend([child1, child2])\n",
        "\n",
        "        population = new_population\n",
        "\n",
        "    return best_chromosome, best_fitness\n",
        "\n",
        "# Function to read input from file\n",
        "def read_input(file_name):\n",
        "    with open(file_name, 'r') as file:\n",
        "        N, T = map(int, file.readline().strip().split())\n",
        "        courses = [line.strip() for line in file.readlines()]\n",
        "    return N, T, courses\n",
        "\n",
        "# Input file name\n",
        "input_file = \"input.txt\"\n",
        "N, T, courses = read_input(input_file)\n",
        "\n",
        "# Parameters\n",
        "population_size = 10\n",
        "mutation_rate = 0.01\n",
        "max_iterations = 100\n",
        "tournament_size = 3\n",
        "\n",
        "# Run Genetic Algorithm with Tournament Selection\n",
        "best_chromosome, best_fitness = genetic_algorithm_tournament(N, T, courses, population_size, mutation_rate, max_iterations, tournament_size)\n",
        "\n",
        "# Output\n",
        "print(\"Best Chromosome:\", ''.join(map(str, best_chromosome)))\n",
        "print(\"Best Fitness:\", best_fitness)\n"
      ]
    }
  ],
  "metadata": {
    "kernelspec": {
      "display_name": "base",
      "language": "python",
      "name": "python3"
    },
    "language_info": {
      "codemirror_mode": {
        "name": "ipython",
        "version": 3
      },
      "file_extension": ".py",
      "mimetype": "text/x-python",
      "name": "python",
      "nbconvert_exporter": "python",
      "pygments_lexer": "ipython3",
      "version": "3.12.3"
    },
    "colab": {
      "provenance": [],
      "include_colab_link": true
    }
  },
  "nbformat": 4,
  "nbformat_minor": 0
}